{
 "cells": [
  {
   "cell_type": "markdown",
   "metadata": {},
   "source": [
    "# Various sources of S&P 500 company names"
   ]
  },
  {
   "cell_type": "code",
   "execution_count": null,
   "metadata": {},
   "outputs": [],
   "source": [
    "from pathlib import Path\n",
    "import re\n",
    "\n",
    "import requests\n",
    "import lxml.etree as et\n",
    "import pandas as pd\n",
    "\n",
    "\n",
    "def pp(el):\n",
    "    print(et.tostring(el, pretty_print=True).decode('utf-8'))\n",
    "    \n",
    "\n",
    "def normalize_whitespace(s):\n",
    "    return re.sub('\\s+', ' ', s)\n",
    "\n",
    "\n",
    "def download(url):\n",
    "    response = requests.get(url)\n",
    "    return et.fromstring(response.content, parser=et.HTMLParser())\n",
    "\n",
    "def save(df, fn):\n",
    "    assert list(df.columns) == ['symbol', 'name']\n",
    "    df['name'] = df['name'].map(normalize_whitespace)\n",
    "    df.to_csv(fn, index=False)\n",
    "\n",
    "    \n",
    "datadir = Path('../data').absolute()\n",
    "datadir.mkdir(exist_ok=True, parents=True)"
   ]
  },
  {
   "cell_type": "markdown",
   "metadata": {},
   "source": [
    "# wikipedia"
   ]
  },
  {
   "cell_type": "code",
   "execution_count": null,
   "metadata": {},
   "outputs": [],
   "source": [
    "url = 'https://en.wikipedia.org/wiki/List_of_S%26P_500_companies'\n",
    "\n",
    "\n",
    "html = download(url)\n",
    "tables = html.findall('.//table')\n",
    "table = tables[0]\n",
    "\n",
    "rows = table.findall('./tbody/tr')\n",
    "header = rows.pop(0)\n",
    "columns = [list(el.itertext())[0].strip() for el in header.findall('th')]\n",
    "data = [['\\n'.join(s.strip() for s in el.itertext()) for el in r.findall('td')] for r in rows]\n",
    "df = pd.DataFrame(data=data, columns=columns)\n",
    "df = df[['Symbol', 'Security']].rename(columns={'Symbol': 'symbol', 'Security': 'name'})\n",
    "save(df, datadir.joinpath('wikipedia.csv'))"
   ]
  },
  {
   "cell_type": "markdown",
   "metadata": {},
   "source": [
    "# slickcharts"
   ]
  },
  {
   "cell_type": "code",
   "execution_count": null,
   "metadata": {},
   "outputs": [],
   "source": [
    "url = 'https://www.slickcharts.com/sp500'\n",
    "html = download(url)\n",
    "\n",
    "table = html.findall('.//table')[0]\n",
    "\n",
    "columns = [el.text for el in table.findall('./thead/tr/th')]\n",
    "rows = table.findall('./tbody/tr')\n",
    "data = [[' '.join(el.itertext()).strip() for el in r.findall('td')] for r in rows]\n",
    "df = pd.DataFrame(data=data, columns=columns)\n",
    "\n",
    "df = df[['Symbol', 'Company']].rename(columns={'Symbol': 'symbol', 'Company': 'name'})\n",
    "\n",
    "save(df, datadir.joinpath('slickcharts.csv'))"
   ]
  }
 ],
 "metadata": {
  "kernelspec": {
   "display_name": "Python 3",
   "language": "python",
   "name": "python3"
  },
  "language_info": {
   "codemirror_mode": {
    "name": "ipython",
    "version": 3
   },
   "file_extension": ".py",
   "mimetype": "text/x-python",
   "name": "python",
   "nbconvert_exporter": "python",
   "pygments_lexer": "ipython3",
   "version": "3.7.0"
  }
 },
 "nbformat": 4,
 "nbformat_minor": 2
}
